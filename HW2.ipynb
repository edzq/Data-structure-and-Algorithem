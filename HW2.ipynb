{
 "cells": [
  {
   "cell_type": "code",
   "execution_count": 129,
   "source": [
    "# Python3 code to implement iterative Binary\n",
    "# Search.\n",
    "\n",
    "# It returns location of x in given array arr\n",
    "# if present, else returns -1\n",
    "import random\n",
    "\n",
    "\n",
    "def binarySearch(arr, x):\n",
    "    l = 0\n",
    "    r = len(arr) - 1\n",
    "    global counters\n",
    "    counters = 0\n",
    "    while l <= r:\n",
    "        counters += 1\n",
    "        mid = l + (r - l) // 2;\n",
    "        # Check if x is present at mid\n",
    "        if arr[mid] == x:\n",
    "            #counters += 1\n",
    "            return mid\n",
    "        # If x is greater, ignore left half\n",
    "        elif arr[mid] < x:\n",
    "            #counters += 1\n",
    "            l = mid + 1\n",
    "            # If x is smaller, ignore right half\n",
    "        else:\n",
    "            #counters += 1\n",
    "            r = mid - 1\n",
    "    return -1\n",
    "\n",
    "# Driver Code\n",
    "# arr = [1,2,3,4,5,6,7]\n",
    "# key = 8\n",
    "\n",
    "#Random Driver Code\n",
    "\n",
    "def RandomSortedList(num):\n",
    "    numbers = random.sample(range(1,10000),num)\n",
    "    numbers.sort()\n",
    "    \n",
    "    return numbers\n",
    "\n",
    "\n",
    "#arr = RandomSortedList(100)\n",
    "\n",
    "arr = [233, 310, 335, 512, 596, 748, 960, 999, 1081, 1257, 1430, 1619, 1645, 1822, 1845, 1899, 1950, 1980, 1986, 2073, 2265, 2554, 2654, 2751, 2908, 2972, 3238, 3257, 3290, 3295, 3435, 3513, 3539, 3552, 3592, 3676, 3851, 3967, 3989, 4064, 4093, 4251, 4433, 4560, 4640, 4798, 4820, 4884, 4919, 4934, 4980, 5096, 5659, 5820, 5934, 6054, 6179, 6205, 6210, 6363, 6494, 6508, 6550, 6575, 6878, 6915, 6998, 7125, 7129, 7135, 7187, 7509, 7540, 7756, 7998, 8123, 8145, 8178, 8269, 8271, 8290, 8302, 8443, 8448, 8546, 8741, 8787, 8913, 8975, 9073, 9128, 9216, 9268, 9470, 9532, 9684, 9758, 9848, 9897, 9925]\n",
    "\n",
    "#key = arr[random.randint(0,99)]\n",
    "key = 10001\n",
    "\n",
    "# Function call\n",
    "result = binarySearch(arr, key)\n",
    "\n",
    "if result != -1:\n",
    "    print(\"The sorted array:\", arr)\n",
    "    print(\"The key value:\", key)\n",
    "    print (\"Element is present at index % d\" % result)\n",
    "    print(\"The counters:\",counters)\n",
    "else:\n",
    "    print (\"Element is not present in array\")\n",
    "    print(\"The counters:\",counters)"
   ],
   "outputs": [
    {
     "output_type": "stream",
     "name": "stdout",
     "text": [
      "Element is not present in array\n",
      "The counters: 7\n"
     ]
    }
   ],
   "metadata": {}
  },
  {
   "cell_type": "code",
   "execution_count": 8,
   "source": [
    "import random\n",
    "def random_list(start,stop,length):\n",
    "    if length>=0:\n",
    "        length=int(length)\n",
    "    start, stop = (int(start), int(stop)) if start <= stop else (int(stop), int(start))\n",
    "    random_list = []\n",
    "    for i in range(length):\n",
    "        random_list.append(random.randint(start, stop))\n",
    "    return random_list\n",
    "\n",
    "A = random_list(1,100,10)\n",
    "print(A)"
   ],
   "outputs": [
    {
     "output_type": "stream",
     "name": "stdout",
     "text": [
      "[55, 13, 50, 97, 70, 68, 27, 73, 83, 47]\n"
     ]
    }
   ],
   "metadata": {}
  },
  {
   "cell_type": "code",
   "execution_count": 194,
   "source": [
    "import random\n",
    "\n",
    "def binarySearch(arr, x):\n",
    "    l = 0\n",
    "    r = len(arr) - 1\n",
    "    global counters\n",
    "    counters = 0\n",
    "    while l <= r:\n",
    "        counters += 1\n",
    "        mid = l + (r - l) // 2;\n",
    "        if arr[mid] == x:\n",
    "            #counters += 1\n",
    "            return mid\n",
    "        elif arr[mid] < x:\n",
    "            #counters += 1\n",
    "            l = mid + 1\n",
    "        else:\n",
    "            #counters += 1\n",
    "            r = mid - 1\n",
    "    return -1\n",
    "\n",
    "\n",
    "\n",
    "#Random Driver Code\n",
    "def RandomSortedList(num):\n",
    "    numbers = random.sample(range(1,200),num)\n",
    "    numbers.sort()\n",
    "    \n",
    "    return numbers\n",
    "\n",
    "\n",
    "# Driver Code\n",
    "# arr = [1,2,3,4,5,6,7]\n",
    "# target = 4\n",
    "\n",
    "\n",
    "arr = RandomSortedList(100)\n",
    "target = random.randint(1,200)\n",
    "\n",
    "result = binarySearch(arr, target)\n",
    "\n",
    "if result != -1:\n",
    "    print(\"The sorted array:\", arr)\n",
    "    print(\"The target value:\", target)\n",
    "    print (\"The target index :\", result)\n",
    "    print(\"The counters:\",counters)\n",
    "else:\n",
    "    print (\"The target index is -1\")\n",
    "    print(\"The counters\",counters)"
   ],
   "outputs": [
    {
     "output_type": "stream",
     "name": "stdout",
     "text": [
      "The sorted array: [4, 5, 6, 8, 9, 11, 12, 14, 18, 21, 22, 24, 25, 26, 27, 28, 29, 30, 33, 34, 35, 41, 43, 47, 54, 55, 57, 60, 62, 64, 68, 69, 70, 76, 78, 80, 81, 82, 86, 87, 88, 91, 93, 96, 97, 98, 99, 100, 101, 102, 103, 105, 106, 107, 109, 111, 112, 113, 114, 117, 118, 119, 124, 127, 130, 131, 132, 133, 134, 135, 137, 142, 144, 145, 146, 153, 156, 157, 158, 159, 160, 161, 162, 164, 166, 170, 173, 174, 175, 176, 179, 181, 186, 189, 192, 194, 196, 197, 198, 199]\n",
      "The target value: 111\n",
      "The target index : 55\n",
      "The counters: 4\n"
     ]
    }
   ],
   "metadata": {}
  },
  {
   "cell_type": "markdown",
   "source": [
    "##### a = 0\n",
    "a = a + 1"
   ],
   "metadata": {}
  },
  {
   "cell_type": "code",
   "execution_count": 161,
   "source": [
    "a"
   ],
   "outputs": [
    {
     "output_type": "execute_result",
     "data": {
      "text/plain": [
       "3"
      ]
     },
     "metadata": {},
     "execution_count": 161
    }
   ],
   "metadata": {}
  },
  {
   "cell_type": "code",
   "execution_count": 162,
   "source": [
    "import matplotlib"
   ],
   "outputs": [
    {
     "output_type": "execute_result",
     "data": {
      "text/plain": [
       "[2,\n",
       " 3,\n",
       " 4,\n",
       " 7,\n",
       " 9,\n",
       " 10,\n",
       " 11,\n",
       " 12,\n",
       " 14,\n",
       " 15,\n",
       " 16,\n",
       " 17,\n",
       " 19,\n",
       " 22,\n",
       " 23,\n",
       " 24,\n",
       " 26,\n",
       " 33,\n",
       " 34,\n",
       " 35,\n",
       " 36,\n",
       " 37,\n",
       " 39,\n",
       " 45,\n",
       " 46,\n",
       " 49,\n",
       " 52,\n",
       " 53,\n",
       " 56,\n",
       " 58,\n",
       " 60,\n",
       " 61,\n",
       " 62,\n",
       " 64,\n",
       " 66,\n",
       " 71,\n",
       " 72,\n",
       " 74,\n",
       " 75,\n",
       " 76,\n",
       " 77,\n",
       " 78,\n",
       " 79,\n",
       " 80,\n",
       " 81,\n",
       " 82,\n",
       " 83,\n",
       " 88,\n",
       " 94,\n",
       " 96,\n",
       " 97,\n",
       " 100,\n",
       " 103,\n",
       " 104,\n",
       " 105,\n",
       " 107,\n",
       " 109,\n",
       " 111,\n",
       " 112,\n",
       " 113,\n",
       " 114,\n",
       " 116,\n",
       " 120,\n",
       " 122,\n",
       " 126,\n",
       " 127,\n",
       " 128,\n",
       " 131,\n",
       " 132,\n",
       " 134,\n",
       " 135,\n",
       " 138,\n",
       " 140,\n",
       " 141,\n",
       " 142,\n",
       " 143,\n",
       " 144,\n",
       " 149,\n",
       " 152,\n",
       " 153,\n",
       " 155,\n",
       " 156,\n",
       " 157,\n",
       " 162,\n",
       " 165,\n",
       " 166,\n",
       " 167,\n",
       " 171,\n",
       " 172,\n",
       " 174,\n",
       " 176,\n",
       " 181,\n",
       " 182,\n",
       " 183,\n",
       " 187,\n",
       " 191,\n",
       " 193,\n",
       " 194,\n",
       " 196,\n",
       " 199]"
      ]
     },
     "metadata": {},
     "execution_count": 162
    }
   ],
   "metadata": {}
  },
  {
   "cell_type": "code",
   "execution_count": 22,
   "source": [
    "def RandomSortedList(num):\n",
    "    numbers = random.sample(range(1,10000),num)\n",
    "    numbers.sort()\n",
    "    \n",
    "    return numbers\n",
    "\n",
    "a = RandomSortedList(10)\n",
    "key_index = \n",
    "key = random"
   ],
   "outputs": [],
   "metadata": {}
  },
  {
   "cell_type": "code",
   "execution_count": 23,
   "source": [
    "a"
   ],
   "outputs": [
    {
     "output_type": "execute_result",
     "data": {
      "text/plain": [
       "[1059, 2703, 3381, 3821, 4146, 4298, 5201, 5867, 6093, 8361]"
      ]
     },
     "metadata": {},
     "execution_count": 23
    }
   ],
   "metadata": {}
  },
  {
   "cell_type": "code",
   "execution_count": null,
   "source": [],
   "outputs": [],
   "metadata": {}
  }
 ],
 "metadata": {
  "kernelspec": {
   "name": "python3",
   "display_name": "Python 3.6.9 64-bit ('deep': conda)"
  },
  "language_info": {
   "codemirror_mode": {
    "name": "ipython",
    "version": 3
   },
   "file_extension": ".py",
   "mimetype": "text/x-python",
   "name": "python",
   "nbconvert_exporter": "python",
   "pygments_lexer": "ipython3",
   "version": "3.6.9"
  },
  "interpreter": {
   "hash": "770ee59c781501d3c2c29bdae914602a12334df3ed9cd03cde8c9654266f1bda"
  }
 },
 "nbformat": 4,
 "nbformat_minor": 2
}